{
 "cells": [
  {
   "cell_type": "markdown",
   "metadata": {},
   "source": [
    "#Indexação do arquivo de telegramas do Wikileaks\n",
    "\n",
    "Nesta prática vamos indexar todo oarquivo de telegramas do Wikileaks com o elasticsearch e testar algumas de suas características como sistema de recuperação de informação.\n",
    "\n",
    "Para realizar esta prática, é necessário fazer o Download do seguinte arquivo:\n",
    "https://archive.org/details/wikileaks-cables-csv\n",
    "\n",
    "Também é necessário instalar a biblioteca cablemap: https://github.com/heuer/cablemap\n"
   ]
  },
  {
   "cell_type": "code",
   "execution_count": 38,
   "metadata": {
    "collapsed": false
   },
   "outputs": [],
   "source": [
    "from cablemap.core import cables_from_source\n",
    "from elasticsearch import Elasticsearch as ES\n",
    "from elasticsearch import helpers\n",
    "import datetime"
   ]
  },
  {
   "cell_type": "markdown",
   "metadata": {},
   "source": [
    "Primeiro temos que localizar o arquivo com os telegramas."
   ]
  },
  {
   "cell_type": "code",
   "execution_count": 39,
   "metadata": {
    "collapsed": true
   },
   "outputs": [],
   "source": [
    "fname = \"../../../../Downloads/wikileaks_cables/cables.csv\""
   ]
  },
  {
   "cell_type": "code",
   "execution_count": 40,
   "metadata": {
    "collapsed": false
   },
   "outputs": [
    {
     "name": "stdout",
     "output_type": "stream",
     "text": [
      "(u'EXTENDED NATIONAL JURISDICTIONS OVER HIGH SEAS', u'1966-12-28 18:48')\n",
      "(u'ACCELERATION OF F-4ES FOR IRAN', u'1972-02-25 09:30')\n",
      "(u'TRIALS/EXECUTIONS OF ANTI-GOVERNMENT ELEMENTS: STUDENTS DEMONSTRATE AND SHAH LASHES OUT AT FOREIGN CRITICS', u'1972-03-09 05:40')\n",
      "(u'CONTINUING TERRORIST ACTIVITIES IN IRAN', u'1972-08-10 04:00')\n",
      "(u'CONTINUING TERRORIST VIOLENCE', u'1972-08-22 09:27')\n",
      "(u'AUDIENCE WITH SHAH APRIL 5', u'1973-04-02 08:34')\n",
      "(u'ASSASSINATION/KIDNAP PLOT AGAINST SHAH REVEALED', u'1973-10-02 14:00')\n"
     ]
    }
   ],
   "source": [
    "i = 0\n",
    "for cable in cables_from_source(fname):\n",
    "    print(cable.subject, cable.created)\n",
    "    if i>5:\n",
    "        break\n",
    "    i += 1"
   ]
  },
  {
   "cell_type": "markdown",
   "metadata": {},
   "source": [
    "Cada telegrama tem vários atributos, por isso precisamos construir um documento JSON com todas estes atributos"
   ]
  },
  {
   "cell_type": "markdown",
   "metadata": {},
   "source": [
    "Vamos ignorar dois atributos por causa de bugs na biblioteca cablemap"
   ]
  },
  {
   "cell_type": "code",
   "execution_count": 41,
   "metadata": {
    "collapsed": false
   },
   "outputs": [
    {
     "name": "stdout",
     "output_type": "stream",
     "text": [
      "['cabledrum_uri', 'canonical_id', 'classification', 'classification_categories', 'classified_by', 'comment', 'content', 'created', 'header', 'info_recipients', 'is_partial', 'nondisclosure_deadline', 'origin', 'plusd_canonical_id', 'plusd_uri', 'recipients', 'reference_id', 'references', 'released', 'signed_by', 'subject', 'summary', 'tags', 'transmission_id', 'wl_uris']\n",
      "['cabledrum_uri', 'canonical_id', 'classification', 'classified_by', 'content', 'created', 'header', 'info_recipients', 'is_partial', 'nondisclosure_deadline', 'origin', 'plusd_canonical_id', 'plusd_uri', 'recipients', 'reference_id', 'references', 'released', 'signed_by', 'subject', 'summary', 'tags', 'transmission_id', 'wl_uris']\n"
     ]
    }
   ],
   "source": [
    "atributos = [i for i in dir(cable) if not i.startswith('_')]\n",
    "print atributos\n",
    "atributos.pop(3) #remove \"classification_categories\"\n",
    "atributos.pop(4) #remove \"comment\"\n",
    "print atributos"
   ]
  },
  {
   "cell_type": "code",
   "execution_count": 42,
   "metadata": {
    "collapsed": false
   },
   "outputs": [
    {
     "data": {
      "text/plain": [
       "u'http://www.cabledrum.net/cables/73TEHRAN7005'"
      ]
     },
     "execution_count": 42,
     "metadata": {},
     "output_type": "execute_result"
    }
   ],
   "source": [
    "getattr(cable,'cabledrum_uri')"
   ]
  },
  {
   "cell_type": "markdown",
   "metadata": {},
   "source": [
    "Agora temos que configurar o Elasticsearch para receber a nossa coleção:"
   ]
  },
  {
   "cell_type": "code",
   "execution_count": 43,
   "metadata": {
    "collapsed": false
   },
   "outputs": [
    {
     "data": {
      "text/plain": [
       "{u'error': u'IndexAlreadyExistsException[[wikileaks] already exists]',\n",
       " u'status': 400}"
      ]
     },
     "execution_count": 43,
     "metadata": {},
     "output_type": "execute_result"
    }
   ],
   "source": [
    "es = ES()\n",
    "es.indices.create(index='wikileaks', ignore=400)"
   ]
  },
  {
   "cell_type": "code",
   "execution_count": null,
   "metadata": {
    "collapsed": false,
    "scrolled": true
   },
   "outputs": [
    {
     "name": "stderr",
     "output_type": "stream",
     "text": [
      "WARNING:cablemap.core.reader:No TO header found in \"86STATE29781\", header: \"R 301133Z JAN 86\n",
      "FM SECSTATE WASHDC\n",
      "INFO AMEMBASSY ATHENS\n",
      "\"\n",
      "WARNING:cablemap.core.reader:No TO header found in \"86STATE92099\", header: \"O 252156Z MAR 86\n",
      "FM SECSTATE WASHDC\n",
      "INFO USDEL SECRETARY IMMEDIATE\n",
      "\"\n",
      "WARNING:cablemap.core.reader:No TO header found in \"88STATE274007\", header: \"O 222345Z AUG 88\n",
      "FM SECSTATE WASHDC\n",
      "INFO USMISSION GENEVA IMMEDIATE\n",
      "AMEMBASSY HELSINKI IMMEDIATE\n",
      "\"\n",
      "WARNING:cablemap.core.reader:No TO header found in \"89STATE405134\", header: \"O 210935Z DEC 89\n",
      "FM SECSTATE WASHDC\n",
      "INFO ALL AMERICAN REPUBLIC DIPLOMATIC POSTS IMMEDIATE\n",
      "\"\n",
      "WARNING:cablemap.core.reader:No TO header found in \"90STATE163440\", header: \"O 212030Z MAY 90\n",
      "FM SECSTATE WASHDC\n",
      "INFO AMEMBASSY KUWAIT IMMEDIATE\n",
      "\"\n",
      "WARNING:cablemap.core.reader:No TO header found in \"90STATE244793\", header: \"O 261024Z JUL 90\n",
      "FM SECSTATE WASHDC\n",
      "INFO USDEL SECRETARY IMMEDIATE\n",
      "\"\n",
      "WARNING:cablemap.core.reader:No TO header found in \"90STATE244856\", header: \"O 261420Z JUL 90\n",
      "FM SECSTATE WASHDC\n",
      "INFO USDEL SECRETARY IMMEDIATE\n",
      "\"\n",
      "WARNING:cablemap.core.reader:No TO header found in \"94STATE183691TOSEC140193\", header: \"O 111211Z JUL 94\n",
      "FM SECSTATE WASHDC\n",
      "INFO USDEL SECRETARY IMMEDIATE \n",
      "\"\n"
     ]
    },
    {
     "name": "stdout",
     "output_type": "stream",
     "text": [
      "Indexando telegrama número 0\n",
      "'Reference' object has no attribute 'name'\n",
      "Indexando telegrama número 1000"
     ]
    },
    {
     "name": "stderr",
     "output_type": "stream",
     "text": [
      "WARNING:cablemap.core.reader:No TO header found in \"00STATE228733\", header: \"R 011950Z DEC 00\n",
      "FM SECSTATE WASHDC\n",
      "INFO ALL DIPLOMATIC AND CONSULAR POSTS\n",
      "SPECIAL EMBASSY PROGRAM\n",
      "USOFFICE PRISTINA \n",
      "AMEMBASSY DUSHANBE \n",
      "AMEMBASSY BELGRADE \n",
      "AMEMBASSY FREETOWN \"\n"
     ]
    },
    {
     "name": "stdout",
     "output_type": "stream",
     "text": [
      "\n",
      "'Reference' object has no attribute 'name'\n",
      "'Reference' object has no attribute 'name'\n",
      "'Reference' object has no attribute 'name'"
     ]
    },
    {
     "name": "stderr",
     "output_type": "stream",
     "text": [
      "WARNING:cablemap.core.reader:No TO header found in \"00STATE229746\", header: \"R 041938Z DEC 00\n",
      "FM SECSTATE WASHDC\n",
      "INFO ALL DIPLOMATIC AND CONSULAR POSTS\n",
      "SPECIAL EMBASSY PROGRAM\n",
      "AMEMBASSY FREETOWN \n",
      "USOFFICE PRISTINA \n",
      "AMEMBASSY DUSHANBE \n",
      "AMEMBASSY BELGRADE \"\n"
     ]
    },
    {
     "name": "stdout",
     "output_type": "stream",
     "text": [
      "\n",
      "'Reference' object has no attribute 'name'\n",
      "'Reference' object has no attribute 'name'\n",
      "Indexando telegrama número 2000\n",
      "'Reference' object has no attribute 'name'\n",
      "'Reference' object has no attribute 'name'\n",
      "Indexando telegrama número 3000\n",
      "'Reference' object has no attribute 'name'\n",
      "'Reference' object has no attribute 'name'\n",
      "'Reference' object has no attribute 'name'\n",
      "Indexando telegrama número 4000\n",
      "'Reference' object has no attribute 'name'\n",
      "Indexando telegrama número 5000\n",
      "'Reference' object has no attribute 'name'\n",
      "'Reference' object has no attribute 'name'"
     ]
    },
    {
     "name": "stderr",
     "output_type": "stream",
     "text": [
      "WARNING:cablemap.core.reader:No TO header found in \"03STATE34981\", header: \"P 061820Z FEB 03\n",
      "FM SECSTATE WASHDC\n",
      "EUROPEAN POLAD COLLECTIVE PRIORITY\n",
      "INFO SECDEF WASHDC//USDP:DSCA//DIA// PRIORITY 0000\n",
      "JOINT STAFF WASHDC PRIORITY 0000\n",
      "USCINCSOC MACDILL AFB FL PRIORITY\n",
      "USCINCSO MIAMI FL PRIORITY\n",
      "USCENTCOM MACDILL AFB FL PRIORITY\n",
      "USCINCEUR VAIHINGEN GE PRIORITY\n",
      "USCINCPAC HONOLULU HI PRIORITY\n",
      "CIA WASHDC PRIORITY 0000\n",
      "DIRNSA FT GEORGE G MEADE MD PRIORITY 0000\n",
      "TREASURY DEPT WASHDC PRIORITY 0000\n",
      "\"\n"
     ]
    },
    {
     "name": "stdout",
     "output_type": "stream",
     "text": [
      "\n",
      "'Reference' object has no attribute 'name'"
     ]
    },
    {
     "name": "stderr",
     "output_type": "stream",
     "text": [
      "WARNING:cablemap.core.reader:No TO header found in \"03ABUDHABI676\", header: \"null\n",
      "Diana T Fritz  06/05/2007 10:35:32 AM  From  DB/Inbox:  Search Results\n",
      "\n",
      "Cable \n",
      "Text:                                                                      \n",
      "                                                                           \n",
      "      \n",
      "SECRET\n",
      "\n",
      "SIPDIS\n",
      "TELEGRAM                                        February 08, 2003\n",
      "\n",
      "\n",
      "To:       No Action Addressee                                    \n",
      "\n",
      "Action:   Unknown                                                \n",
      "\n",
      "From:     AMEMBASSY ABU DHABI (ABU DHABI 676 - PRIORITY)         \n",
      "\n",
      "TAGS:     PREL                                                   \n",
      "\n",
      "Captions: None                                                   \n",
      "\n",
      "Subject:  UAEG WELCOMES SECRETARY'S PRESENTATION           BUT   \n",
      "          PUBLIC REACTION MIXED; DERISIVE           RITTER SOUNDS\n",
      "           OFF IN ABU DHABI                                      \n",
      "\n",
      "Ref:      None                                                   \n",
      "_________________________________________________________________\n",
      "S E C R E T        ABU DHABI 00676\n",
      "\n",
      "SIPDIS\n",
      "CXABU:\n",
      "    ACTION: POL \n",
      "    INFO:   DCM ECON P/M RSO AMB \n",
      "\n",
      "DISSEMINATION: POL\n",
      "CHARGE: PROG\n",
      "\n",
      "APPROVED: CDA:TEWILLIAMS\n",
      "DRAFTED: POL:STWILLIAMS\n",
      "CLEARED: POL:MMENARD\n",
      "\n",
      "VZCZCADI740\n",
      "PP RUEHC RUEHDE RUCNRAQ RHEHNSC RUEAIIA\n",
      "DE RUEHAD #0676/01 0391344\n",
      "ZNY SSSSS ZZH\n",
      "P 081344Z FEB 03\n",
      "FM AMEMBASSY ABU DHABI\n",
      "INFO RUEHC/SECSTATE WASHDC PRIORITY 8309\n",
      "RUEHDE/AMCONSUL DUBAI 2784\n",
      "RUCNRAQ/IRAQ COLLECTIVE\n",
      "RHEHNSC/NSC WASHINGTON DC\n",
      "RUEAIIA/CIA WASHINGTON DC\"\n",
      "WARNING:cablemap.core.reader:No TO header found in \"03ABUDHABI724\", header: \"null\n",
      "Diana T Fritz  06/05/2007 10:35:05 AM  From  DB/Inbox:  Search Results\n",
      "\n",
      "Cable \n",
      "Text:                                                                      \n",
      "                                                                           \n",
      "      \n",
      "CONFIDENTIAL\n",
      "\n",
      "SIPDIS\n",
      "TELEGRAM                                        February 09, 2003\n",
      "\n",
      "\n",
      "To:       No Action Addressee                                    \n",
      "\n",
      "Action:   Unknown                                                \n",
      "\n",
      "From:     AMEMBASSY ABU DHABI (ABU DHABI 724 - PRIORITY)         \n",
      "\n",
      "TAGS:     PREL                                                   \n",
      "\n",
      "Captions: None                                                   \n",
      "\n",
      "Subject:  UAE DEPUTY PM PANDERS TO PUBLIC           OPINION ON   \n",
      "          IRAQ                                                   \n",
      "\n",
      "Ref:      None                                                   \n",
      "_________________________________________________________________\n",
      "C O N F I D E N T I A L        ABU DHABI 00724\n",
      "\n",
      "SIPDIS\n",
      "CXABU:\n",
      "    ACTION: POL \n",
      "    INFO:   RSO AMB DCM P/M ECON \n",
      "\n",
      "DISSEMINATION: POL\n",
      "CHARGE: PROG\n",
      "\n",
      "APPROVED: CDA:TEWILLIAMS\n",
      "DRAFTED: POL:STWILLIAMS\n",
      "CLEARED: NONE\n",
      "\n",
      "VZCZCADI812\n",
      "PP RUEHC RUEHDE RUCNRAQ RHEHNSC RUEAIIA\n",
      "DE RUEHAD #0724 0401314\n",
      "ZNY CCCCC ZZH\n",
      "P 091314Z FEB 03\n",
      "FM AMEMBASSY ABU DHABI\n",
      "INFO RUEHC/SECSTATE WASHDC PRIORITY 8358\n",
      "RUEHDE/AMCONSUL DUBAI 2789\n",
      "RUCNRAQ/IRAQ COLLECTIVE\n",
      "RHEHNSC/NSC WASHINGTON DC\n",
      "RUEAIIA/CIA WASHINGTON DC\"\n",
      "WARNING:cablemap.core.reader:No TO header found in \"03ABUDHABI728\", header: \"null\n",
      "Diana T Fritz  06/05/2007 10:30:17 AM  From  DB/Inbox:  Search Results\n",
      "\n",
      "Cable \n",
      "Text:                                                                      \n",
      "                                                                           \n",
      "      \n",
      "CONFIDENTIAL\n",
      "\n",
      "SIPDIS\n",
      "TELEGRAM                                        February 11, 2003\n",
      "\n",
      "\n",
      "To:       No Action Addressee                                    \n",
      "\n",
      "Action:   Unknown                                                \n",
      "\n",
      "From:     AMEMBASSY ABU DHABI (ABU DHABI 728 - PRIORITY)         \n",
      "\n",
      "TAGS:     PREL                                                   \n",
      "\n",
      "Captions: None                                                   \n",
      "\n",
      "Subject:  UAE DEPUTY PM PANDERS TO PUBLIC           OPINION ON   \n",
      "          IRAQ                                                   \n",
      "\n",
      "Ref:      None                                                   \n",
      "_________________________________________________________________\n",
      "C O N F I D E N T I A L        ABU DHABI 00728\n",
      "\n",
      "SIPDIS\n",
      "CXABU:\n",
      "    ACTION: POL \n",
      "    INFO:   DCM P/M ECON RSO AMB \n",
      "\n",
      "DISSEMINATION: POL\n",
      "CHARGE: PROG\n",
      "\n",
      "APPROVED: CDA:TEWILLIAMS\n",
      "DRAFTED: POL:STWILLIAMS\n",
      "CLEARED: NONE\n",
      "\n",
      "VZCZCADI828\n",
      "PP RUEHC RUEHDE RUCNRAQ RHEHNSC RUEAIIA\n",
      "DE RUEHAD #0728 0420437\n",
      "ZNY CCCCC ZZH\n",
      "P 110437Z FEB 03\n",
      "FM AMEMBASSY ABU DHABI\n",
      "INFO RUEHC/SECSTATE WASHDC PRIORITY 8364\n",
      "RUEHDE/AMCONSUL DUBAI 2793\n",
      "RUCNRAQ/IRAQ COLLECTIVE\n",
      "RHEHNSC/NSC WASHINGTON DC\n",
      "RUEAIIA/CIA WASHINGTON DC\"\n"
     ]
    },
    {
     "name": "stdout",
     "output_type": "stream",
     "text": [
      "\n",
      "'Reference' object has no attribute 'name'\n",
      "'Reference' object has no attribute 'name'\n",
      "Indexando telegrama número 6000"
     ]
    },
    {
     "name": "stderr",
     "output_type": "stream",
     "text": [
      "WARNING:cablemap.core.reader:No TO header found in \"03ABUDHABI1356\", header: \"null\n",
      "Diana T Fritz  05/24/2007 04:49:07 PM  From  DB/Inbox:  Search Results\n",
      "\n",
      "Cable \n",
      "Text:                                                                      \n",
      "                                                                           \n",
      "      \n",
      "UNCLASSIFIED\n",
      "\n",
      "SIPDIS\n",
      "TELEGRAM                                           March 21, 2003\n",
      "\n",
      "\n",
      "To:       No Action Addressee                                    \n",
      "\n",
      "Action:   Unknown                                                \n",
      "\n",
      "From:     AMEMBASSY ABU DHABI (ABU DHABI 1356 - UNKNOWN)         \n",
      "\n",
      "TAGS:     OIIP, KMDR                                             \n",
      "\n",
      "Captions: None                                                   \n",
      "\n",
      "Subject:  MEDIA REACTION: WAR WITH IRAQ                          \n",
      "\n",
      "Ref:      None                                                   \n",
      "_________________________________________________________________\n",
      "UNCLAS        ABU DHABI 01356\n",
      "\n",
      "SIPDIS\n",
      "CXABU:\n",
      "    ACTION: PAO \n",
      "    INFO:   POL DCM AMB ECON \n",
      "Laser1:\n",
      "    ACTION: PAO \n",
      "\n",
      "DISSEMINATION: PAO\n",
      "CHARGE: PROG\n",
      "\n",
      "APPROVED: PAO:KVANDEVATE\n",
      "DRAFTED: PAO:AHOSHAN\n",
      "CLEARED: PAO:TPONCE\n",
      "\n",
      "VZCZCADI399\n",
      "OO RUEHC RUENAAA RUEKJCS RUEHZM RUEHLO RUEHFR\n",
      "RHRMDAB RUCJACC RUCQSOC\n",
      "DE RUEHAD #1356 0800917\n",
      "ZNR UUUUU ZZH\n",
      "O 210917Z MAR 03\n",
      "FM AMEMBASSY ABU DHABI\n",
      "INFO RUEHC/SECSTATE WASHDC IMMEDIATE 8969\n",
      "RUENAAA/SECNAV WASHINGTON DC IMMEDIATE\n",
      "RUEKJCS/SECDEF WASHINGTON DC IMMEDIATE\n",
      "RUEHZM/GCC COLLECTIVE\n",
      "RUEHLO/AMEMBASSY LONDON 0611\n",
      "RUEHFR/AMEMBASSY PARIS 0669\n",
      "RHRMDAB/COMUSNAVCENT\n",
      "RUCJACC/USCINCCENT MACDILL AFB FL//CCPA//\n",
      "RUCQSOC/USCINCSOC MACDILL AFB FL//PA//\"\n"
     ]
    }
   ],
   "source": [
    "def build_doc(cable):\n",
    "    doc = {}\n",
    "    for a in atributos:\n",
    "        try:\n",
    "            if a == 'created':\n",
    "                doc[a] = datetime.datetime.strptime(getattr(cable, a).strip(), \"%Y-%m-%d %H:%M\")\n",
    "            else:\n",
    "                doc[a] = getattr(cable, a)\n",
    "        except AttributeError as e:\n",
    "            print e\n",
    "            doc[a] = \"\"\n",
    "    return doc\n",
    "\n",
    "def cable_doc_gen():\n",
    "    \"\"\"\n",
    "    Função geradora que itera sobre cables.csv\n",
    "    retornando um telegrama por vez, incluindo-o em um dicionário compatível com o elasticsearch.\n",
    "    \"\"\"\n",
    "    for j,cable in enumerate(cables_from_source(fname)):\n",
    "        doc = build_doc(cable)\n",
    "        \n",
    "        action = {\n",
    "            \"_index\": \"wikileaks\",\n",
    "            \"_type\": \"telegramas\",\n",
    "            \"_id\": j,\n",
    "            \"doc\": doc\n",
    "            }\n",
    "        if j%1000 == 0:\n",
    "            print \"Indexando telegrama número {}\".format(j)\n",
    "        yield action\n",
    "        \n",
    "helpers.bulk(es, cable_doc_gen(), chunk_size=1000)"
   ]
  },
  {
   "cell_type": "markdown",
   "metadata": {
    "collapsed": true
   },
   "source": [
    "##Realizando consultas no índice"
   ]
  },
  {
   "cell_type": "code",
   "execution_count": null,
   "metadata": {
    "collapsed": false
   },
   "outputs": [],
   "source": [
    "es.search(\"wikileaks\", q=\"lula\")"
   ]
  },
  {
   "cell_type": "code",
   "execution_count": null,
   "metadata": {
    "collapsed": false
   },
   "outputs": [],
   "source": []
  },
  {
   "cell_type": "code",
   "execution_count": null,
   "metadata": {
    "collapsed": false
   },
   "outputs": [],
   "source": []
  },
  {
   "cell_type": "code",
   "execution_count": null,
   "metadata": {
    "collapsed": false
   },
   "outputs": [],
   "source": []
  },
  {
   "cell_type": "code",
   "execution_count": 27,
   "metadata": {
    "collapsed": true
   },
   "outputs": [
    {
     "data": {
      "text/plain": [
       "u\"UNCLAS TEHRAN 7005 \\n \\nDeclassified/Released US Department of State EO Systematic Review 30 JUN 2005 \\n \\nE.O. 11652: N/A \\nTAGS: PINS IR \\nSUBJECT: ASSASSINATION/KIDNAP PLOT AGAINST SHAH REVEALED \\n \\nSUMMARY: GOI ANNOUNCED TODAY ARREST OF TWELVE PERSONS \\nINCLUDING TWO WOMEN FOR PLOTTING TO KIDNAP OR KILL SHAH, \\nEMPRESS AND OTHER MEMBERS OF IMPERIAL FAMILY. PLOTTERS \\nSAID TO BELONG TO WING OF OUTLAWED TUDEH (COMMUNIST) PARTY \\nAND ARE SAID TO HAVE MADE CONFESSIONS. END SUMMARY. \\n \\n1. MINISTRY OF INFORMATION ANNOUNCED OCTOBER 2 THE ARREST OF \\nTWELVE PERSONS INCLUDING TWO WOMEN ON CHARGES OF PLOTTING TO \\nKIDNAP OR KILL MEMBERS OF THE IMPERIAL FAMILY. ACCORDING TO \\nOFFICIAL ANNOUNCEMENT, GROUP, WHICH INCLUDED FILMMAKERS, CAMERAMEN \\nAND NEWSPAPERMEN, HAD RECONNOITERED SHAH'S CASPIAN PALACE \\nAT NOWSHAHR AS WELL AS RESIDENCE OF HIM'S YOUNGER SISTER \\nPRINCESS FATEMEH. PLAN WAS TO KILL SHAH, EMPRESS, CROWN \\nPRINCE AND POSSIBLY OTHERS, PERHAPS INCLUDING UNNAMED FOREIGN \\nAMBASSADOR, OBTAIN AN AIRLINER TO FLEE COUNTRY WITH HOSTAGES \\nAND DEMAND RELEASE OF POLITICAL PRISONERS, THREATENING DEATH TO \\nROYAL FAMILY IF DEMANDS REFUSED. SHAH'S FORMER SON-IN-LAW AND \\nPRESENT IRANIAN AMBASSADOR TO US ARDESHIR ZAHEDI AND HIM'S \\nGRANDDAUGHTER MAHNAZ ALSO REPORTEDLY TARGETED. \\n \\n2. SECURITY AUTHORITIES ANNOUNCED THAT QUATITIES OF \\nFIREARMS AND EXPLOSIVES WERE SEIZED AND ALL MEMBERS OF THE \\nGROUP HAVE BEEN CAPTURED. INTERESTINGLY, ONE OF PLOTTERS \\nWAS MANOUCHEHR MOGHADAM-SALIMI, WHO WAS SENTENCED TO THREE \\nYEARS IN PRISON FOR HIS PART IN ATTEMPT ON SHAH'S LIFE AT \\nMARBLE PALACE IN 1965. ONE OF TWO WOMEN INVOLVED WAS \\nMARYAM ETEHADIEH (MEMBER OF WELL-KNOWN MERCANTILE \\nFAMILY AND NEWSPAPER EMPLOYEE) WHO PROVIDED DATA ON MOVEMENTS \\nOF PRINCESS MAHNAZ. SECOND WOMAN WAS \\nSHOUKOUH FARHANG (NEWSPAPER EMPLOYEE), WHO JOINED WITH \\nHUSBAND EBRAHIM FARHANG-RAZI (COMMERCIAL COMPANY EMPLOYEE). \\nOTHERS INCLUDED MORTEZA SIAPOUSHI (NEWSPAPER EMPLOYEE) AND \\nFARHAD QEYSARI. \\n \\n3. PLOTTERS REPORTEDLY MEMBERS OF OUTLAWED TUDEH (COMMUNIST) \\nPARTY AND ARE SAID TO HAVE CONFESSED, AMONG OTHER THINGS, \\nTO PLANNING ASSASSINATION ATTEMPT ON EMPRESS FARAH OR OTHER \\nMEMBER OF IMPERIAL FAMILY AT CHILDREN'S FILM FESTIVAL \\nSCHEDULED FOR LATER THIS MONTH. A MAJOR FIGURE IN THIS \\nPORTION OF PLOT WAS REZA ALAMEZADEH, A CANDIDATE FOR \\nPRIZE FOR YEAR'S BEST CHILDREN'S FILM. OTHERS INCLUDED \\nABBAS ALI SAMAKAR, TEYFOUR BATHAII (FILMMAKERS), \\nRAHMATOLLAH IRAJ JAMSHIDI (REPORTER), AND KERAMATALLAH \\nDANESHIAN (CONSTRUCTION COMPANY EMPLOYEE). PLAN CALLED FOR \\nALAMEZADEH AND SAMAKAR TO GO ARMED TO PRIZEGIVING CEREMONY \\nAND MAKE ASSAULT AT MOMENT OF PRESENTATION. OTHER THREE \\nTOBE PRESENT AT CEREMONY, ALSO ARMED, TO PROVIDE DEVERSION \\nIF NECESSARY. \\n \\nCOMMENT: NO INDICATION OF DATE ARREST TOOK PLACE. WILL \\nREPORT FURTHER DEVELOPMENTS. \\n \\nHELMS \\n \\nDeclassified/Released US Department of State EO Systematic Review 30 JUN 2005 \\n \\nNNN \\n\""
      ]
     },
     "execution_count": 27,
     "metadata": {},
     "output_type": "execute_result"
    }
   ],
   "source": []
  },
  {
   "cell_type": "code",
   "execution_count": null,
   "metadata": {
    "collapsed": true
   },
   "outputs": [],
   "source": []
  }
 ],
 "metadata": {
  "kernelspec": {
   "display_name": "Python 2",
   "language": "python",
   "name": "python2"
  }
 },
 "nbformat": 4,
 "nbformat_minor": 0
}
