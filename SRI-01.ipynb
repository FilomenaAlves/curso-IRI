{
 "metadata": {
  "name": "SRI-01"
 },
 "nbformat": 3,
 "worksheets": [
  {
   "cells": [
    {
     "cell_type": "markdown",
     "source": [
      "Sistemas de Recupera\u00e7\u00e3o de Informa\u00e7\u00e3o",
      "=====================================",
      "",
      "Pr\u00e1tica 1",
      "---------"
     ]
    },
    {
     "cell_type": "code",
     "input": [
      ""
     ],
     "language": "python",
     "outputs": []
    }
   ]
  }
 ]
}