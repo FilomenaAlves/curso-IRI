{
 "metadata": {
  "name": "Similaridade_Cosseno"
 },
 "nbformat": 3,
 "nbformat_minor": 0,
 "worksheets": [
  {
   "cells": [
    {
     "cell_type": "code",
     "collapsed": false,
     "input": [
      "from nltk.corpus import machado\n",
      "from nltk.tokenize import WordPunctTokenizer\n",
      "from nltk.corpus import stopwords\n",
      "import string\n",
      "from collections import defaultdict\n",
      "from nltk.stem.snowball import PortugueseStemmer\n",
      "import nltk"
     ],
     "language": "python",
     "metadata": {},
     "outputs": [],
     "prompt_number": 4
    },
    {
     "cell_type": "code",
     "collapsed": false,
     "input": [
      "textos = [machado.raw(id) for id in machado.fileids()]\n",
      "len(textos)"
     ],
     "language": "python",
     "metadata": {},
     "outputs": [
      {
       "output_type": "pyout",
       "prompt_number": 5,
       "text": [
        "246"
       ]
      }
     ],
     "prompt_number": 5
    },
    {
     "cell_type": "code",
     "collapsed": false,
     "input": [
      "tok_textos = [WordPunctTokenizer().tokenize(t) for t in textos]\n"
     ],
     "language": "python",
     "metadata": {},
     "outputs": [],
     "prompt_number": 6
    },
    {
     "cell_type": "code",
     "collapsed": false,
     "input": [
      "vocab = list(set((sum([list(set(t)) for t in tok_textos]))))\n",
      "vocab[:30]"
     ],
     "language": "python",
     "metadata": {},
     "outputs": [
      {
       "output_type": "pyout",
       "prompt_number": 11,
       "text": [
        "[u'Semeei',\n",
        " u'obrigaria',\n",
        " u'arrulhou',\n",
        " u'Contratou',\n",
        " u'Beijam',\n",
        " u'remordida',\n",
        " u'Orvalha',\n",
        " u'fortalecia',\n",
        " u'farfalhando',\n",
        " u'visguento',\n",
        " u'impotente',\n",
        " u'serralheiro',\n",
        " u'fun\\xe2mbulo',\n",
        " u't\\xeds',\n",
        " u'Cen\\xe1culo',\n",
        " u'prazo',\n",
        " u'Moreira',\n",
        " u'praza',\n",
        " u'purpurinas',\n",
        " u'taparam',\n",
        " u'far\\xe3o',\n",
        " u'come\\xe7aremos',\n",
        " u'Hauranne',\n",
        " u'igual',\n",
        " u'Cambar\\xe1s',\n",
        " u'enredador',\n",
        " u'penetr\\xe1vel',\n",
        " u'federalismo',\n",
        " u'apare\\xe7am',\n",
        " u'L\\xeasbia']"
       ]
      }
     ],
     "prompt_number": 11
    },
    {
     "cell_type": "code",
     "collapsed": false,
     "input": [
      "T = nltk.TextCollection(tok_textos)"
     ],
     "language": "python",
     "metadata": {},
     "outputs": [],
     "prompt_number": 12
    },
    {
     "cell_type": "code",
     "collapsed": false,
     "input": [
      "tfidf_matrix = np.zeros((len(tok_textos),len(vocab)))\n",
      "for j,w in enumerate(vocab):\n",
      "    for i, d in enumerate(tok_textos):\n",
      "        tfidf_matrix[i,j] = T.tf_idf(w,d)"
     ],
     "language": "python",
     "metadata": {},
     "outputs": [],
     "prompt_number": "*"
    },
    {
     "cell_type": "code",
     "collapsed": false,
     "input": [],
     "language": "python",
     "metadata": {},
     "outputs": [],
     "prompt_number": 47
    },
    {
     "cell_type": "code",
     "collapsed": false,
     "input": [
      "T.tf_idf('Lamartine',tok_textos[0])"
     ],
     "language": "python",
     "metadata": {},
     "outputs": [
      {
       "output_type": "pyout",
       "prompt_number": 49,
       "text": [
        "4.3444973406561315e-05"
       ]
      }
     ],
     "prompt_number": 49
    },
    {
     "cell_type": "code",
     "collapsed": false,
     "input": [
      "fd=nltk.FreqDist(WordPunctTokenizer().tokenize(textos[0]))\n",
      "fd['Lamartine']"
     ],
     "language": "python",
     "metadata": {},
     "outputs": [
      {
       "output_type": "pyout",
       "prompt_number": 25,
       "text": [
        "1"
       ]
      }
     ],
     "prompt_number": 25
    },
    {
     "cell_type": "code",
     "collapsed": false,
     "input": [
      "T.tf(\"Lamartine\",WordPunctTokenizer().tokenize(textos[0]))"
     ],
     "language": "python",
     "metadata": {},
     "outputs": [
      {
       "output_type": "pyout",
       "prompt_number": 38,
       "text": [
        "1.4383729125613106e-05"
       ]
      }
     ],
     "prompt_number": 38
    },
    {
     "cell_type": "code",
     "collapsed": false,
     "input": [
      "1./len(WordPunctTokenizer().tokenize(textos[0]))"
     ],
     "language": "python",
     "metadata": {},
     "outputs": [
      {
       "output_type": "pyout",
       "prompt_number": 40,
       "text": [
        "1.4383729125613106e-05"
       ]
      }
     ],
     "prompt_number": 40
    },
    {
     "cell_type": "code",
     "collapsed": false,
     "input": [
      "nltk.TextCollection??"
     ],
     "language": "python",
     "metadata": {},
     "outputs": [],
     "prompt_number": 42
    },
    {
     "cell_type": "code",
     "collapsed": false,
     "input": [
      "nltk.LazyConcatenation??"
     ],
     "language": "python",
     "metadata": {},
     "outputs": [],
     "prompt_number": 44
    },
    {
     "cell_type": "code",
     "collapsed": false,
     "input": [
      "T.concordance('Harpa')"
     ],
     "language": "python",
     "metadata": {},
     "outputs": [
      {
       "output_type": "stream",
       "stream": "stdout",
       "text": [
        "Building index...\n",
        "Displaying 22 of 22 matches:"
       ]
      },
      {
       "output_type": "stream",
       "stream": "stdout",
       "text": [
        "\n",
        ". A sua fala deve ser um murm\u00fario de harpa e\u00f3lia ; o seu amor um desmaio , a su\n",
        "a , porque era insigne na viola e na harpa , n\u00e3o menos que na teologia . Consul\n",
        "oloncelo ; se for menina , aprender\u00e1 harpa . S\u00e3o os \u00fanicos instrumentos capazes\n",
        "e , mais ainda , um duo admir\u00e1vel de harpa e contrabaixo . Este instrumento foi\n",
        "s amigos ; outra que toma por t\u00edtulo Harpa Brasileira , onde est\u00e3o as poesias A\n",
        "or ele ao nosso idioma . Abro m\u00e3o da Harpa de Moore ; mas os Mortos de cora\u00e7\u00e3o \n",
        "essa classifica\u00e7\u00e3o entre homens . Na Harpa Brasileira encontramos uma parte des\n",
        "ram os coros da pe\u00e7a . Acompanhou na harpa o duo de Elvira e Carlos V a Sra . D\n",
        "lancolicamente a corda harmoniosa da harpa inspirada do Virg\u00edlio crist\u00e3o ! Os a\n",
        " pendurei nos ramos dos salgueiros a harpa das minhas mais caras ilus\u00f5es , mas \n",
        "vas e do mar . AS BRISAS Deu - nos a harpa e\u00f3lia a excelsa melodia Que a folhag\n",
        "rmonia , Ao p\u00e9 da tua voz , filha da harpa do amor ? Diz - nos tu como houveste\n",
        "Fala aos ecos da espessura A chorosa harpa do vento , E num canto sonolento Ent\n",
        "rar , n\u00e3o viu pousar calada , Como a harpa dos \u00eaxules profetas , A her\u00f3ica tuba\n",
        "ristes , Nas d\u00e9beis cordas de minh \u0092 harpa d\u00e9bil ?!... Doce chama me ateias den\n",
        "e sinto ao escutar - te as notas d ' harpa ! A UMA MENINA [ 48 ] La esencia de \n",
        "harmonia Em teus sonoros carmes ! Na harpa d ' ouro Do sacro Apollo , Trovador \n",
        ", quem soubera Imitar de teu peito \u0097 harpa celeste - O meigo som , para louvar \n",
        "\u00e3o a irm\u00e3o ! Aos sons acordes da tua harpa ardente Venho juntar uma can\u00e7\u00e3o saud\n",
        "emos pois ! Meu t\u00edmido ala\u00fade Da tua harpa unirei \u00e0 nota ardente Em uma s\u00f3 can\u00e7\n",
        "os destinos , Imprimiu - te na voz a harpa de um s\u00e9culo E a alma te encarnou em\n",
        "nia ... \u00c0 Babil\u00f4nia melhor ; levai a harpa do desterro , mas em vez de a pendur\n"
       ]
      }
     ],
     "prompt_number": 48
    },
    {
     "cell_type": "code",
     "collapsed": false,
     "input": [],
     "language": "python",
     "metadata": {},
     "outputs": []
    }
   ],
   "metadata": {}
  }
 ]
}